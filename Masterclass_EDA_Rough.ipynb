{
 "cells": [
  {
   "cell_type": "code",
   "execution_count": null,
   "id": "1b40bf6e",
   "metadata": {
    "scrolled": true
   },
   "outputs": [],
   "source": [
    "# Import libraries and loading the csv file\n",
    "import pandas as pd\n",
    "import seaborn as sns\n",
    "import matplotlib.pyplot as plt\n",
    "import numpy as np\n",
    "import seaborn as sns\n",
    "import warnings\n",
    "warnings.filterwarnings(\"ignore\")\n",
    "import missingno as msno\n",
    "import plotly.express as px\n",
    "import re\n",
    "import sweetviz as sv\n",
    "from kmodes.kprototypes import KPrototypes\n",
    "import scipy.stats as stats\n",
    "from scipy.stats import chi2\n",
    "vehicles_data_initial = pd.read_csv(r\"C:\\Users\\91886\\OneDrive\\QMUL Masterclass\\vehicles.csv\")"
   ]
  },
  {
   "cell_type": "code",
   "execution_count": null,
   "id": "b4c40bbc",
   "metadata": {
    "scrolled": true
   },
   "outputs": [],
   "source": [
    "vehicles_data =  vehicles_data_initial.copy()\n",
    "sample = vehicles_data_initial.copy()"
   ]
  },
  {
   "cell_type": "code",
   "execution_count": null,
   "id": "62859afb",
   "metadata": {
    "scrolled": true
   },
   "outputs": [],
   "source": [
    "vehicles_data[vehicles_data[\"price\"] < 500]"
   ]
  },
  {
   "cell_type": "code",
   "execution_count": null,
   "id": "d6323228",
   "metadata": {
    "scrolled": true
   },
   "outputs": [],
   "source": [
    "vehicles_data.drop(vehicles_data[vehicles_data['price'] < 500].index, inplace = True)"
   ]
  },
  {
   "cell_type": "code",
   "execution_count": null,
   "id": "162c5ffb",
   "metadata": {
    "scrolled": true
   },
   "outputs": [],
   "source": [
    "vehicles_data.drop(['url', 'region_url','image_url','county','VIN','size'], axis=1,inplace = True)"
   ]
  },
  {
   "cell_type": "code",
   "execution_count": null,
   "id": "0c3c44ea",
   "metadata": {
    "scrolled": true
   },
   "outputs": [],
   "source": [
    "vehicles_data.shape"
   ]
  },
  {
   "cell_type": "code",
   "execution_count": null,
   "id": "2ceaa141",
   "metadata": {
    "scrolled": true
   },
   "outputs": [],
   "source": [
    "msno.matrix(vehicles_data, color = (0.5, 0.5, 0.5))"
   ]
  },
  {
   "cell_type": "code",
   "execution_count": null,
   "id": "b5617a68",
   "metadata": {
    "scrolled": true
   },
   "outputs": [],
   "source": [
    "percent_missing = vehicles_data.isnull().sum() * 100 / len(vehicles_data)\n",
    "missing_value_df = pd.DataFrame({'column_name': vehicles_data.columns,\n",
    "                                 'percent_missing': percent_missing})"
   ]
  },
  {
   "cell_type": "code",
   "execution_count": null,
   "id": "78304318",
   "metadata": {
    "scrolled": true
   },
   "outputs": [],
   "source": [
    "missing_value_df"
   ]
  },
  {
   "cell_type": "code",
   "execution_count": null,
   "id": "f778d5ef",
   "metadata": {
    "scrolled": true
   },
   "outputs": [],
   "source": [
    "vehicles_data.drop(vehicles_data[vehicles_data['year'] < 1990].index, inplace = True)"
   ]
  },
  {
   "cell_type": "code",
   "execution_count": null,
   "id": "4214befc",
   "metadata": {
    "scrolled": true
   },
   "outputs": [],
   "source": [
    "vehicles_data.dropna(axis = 0,thresh=17,inplace = True)"
   ]
  },
  {
   "cell_type": "code",
   "execution_count": null,
   "id": "7b672316",
   "metadata": {
    "scrolled": true
   },
   "outputs": [],
   "source": [
    "vehicles_data.dropna(subset=['manufacturer', 'model','odometer','title_status','fuel',\n",
    "                               'transmission','lat','long','year','description'], inplace = True)"
   ]
  },
  {
   "cell_type": "code",
   "execution_count": null,
   "id": "090ff061",
   "metadata": {
    "scrolled": true
   },
   "outputs": [],
   "source": [
    "msno.matrix(vehicles_data, color = (0.5, 0.5, 0.5))"
   ]
  },
  {
   "cell_type": "code",
   "execution_count": null,
   "id": "55908a04",
   "metadata": {
    "scrolled": true
   },
   "outputs": [],
   "source": [
    "percent_missing = vehicles_data.isnull().sum() * 100 / len(vehicles_data)\n",
    "missing_value_df = pd.DataFrame({'column_name': vehicles_data.columns,\n",
    "                                 'percent_missing': percent_missing})\n",
    "missing_value_df"
   ]
  },
  {
   "cell_type": "code",
   "execution_count": null,
   "id": "f441b0f5",
   "metadata": {
    "scrolled": true
   },
   "outputs": [],
   "source": [
    "vehicles_data.shape"
   ]
  },
  {
   "cell_type": "code",
   "execution_count": null,
   "id": "58612231",
   "metadata": {
    "scrolled": true
   },
   "outputs": [],
   "source": [
    "# To find records with fuel as electric and cylinders as NULL\n",
    "condition1 = pd.isna(vehicles_data_initial[\"cylinders\"])\n",
    "condition2 = vehicles_data[\"fuel\"] == 'electric'"
   ]
  },
  {
   "cell_type": "code",
   "execution_count": null,
   "id": "02907480",
   "metadata": {
    "scrolled": true
   },
   "outputs": [],
   "source": [
    "# Use the & operator to combine the conditions\n",
    "filtered_df = vehicles_data[condition1 & condition2]"
   ]
  },
  {
   "cell_type": "code",
   "execution_count": null,
   "id": "1ec0f669",
   "metadata": {
    "scrolled": true
   },
   "outputs": [],
   "source": [
    "# imputing electric car cylinders to 0\n",
    "vehicles_data['cylinders'] = np.where(pd.isna(vehicles_data[\"cylinders\"]) & (vehicles_data[\"fuel\"] == 'electric')\n",
    "                                      ,0,vehicles_data['cylinders'])"
   ]
  },
  {
   "cell_type": "code",
   "execution_count": null,
   "id": "408f9292",
   "metadata": {
    "scrolled": true
   },
   "outputs": [],
   "source": [
    "# Data correction for fuel type as electric and number of cylinders as non zero\n",
    "vehicles_data[vehicles_data[\"fuel\"] == 'electric'][\"cylinders\"].value_counts()\n",
    "vehicles_data['cylinders'] = np.where((vehicles_data['fuel'] == 'electric') & (vehicles_data['cylinders'] != 0), \n",
    "                                         0, vehicles_data['cylinders'])"
   ]
  },
  {
   "cell_type": "code",
   "execution_count": null,
   "id": "a4b5e4c9",
   "metadata": {
    "scrolled": true
   },
   "outputs": [],
   "source": [
    "# Dropping Null values from Type\n",
    "\n",
    "vehicles_data.dropna(subset=['type'], inplace = True)"
   ]
  },
  {
   "cell_type": "code",
   "execution_count": null,
   "id": "93b0d4f3",
   "metadata": {
    "scrolled": true
   },
   "outputs": [],
   "source": [
    "vehicles_data.shape"
   ]
  },
  {
   "cell_type": "code",
   "execution_count": null,
   "id": "1b60c127",
   "metadata": {
    "scrolled": true
   },
   "outputs": [],
   "source": [
    "percent_missing = vehicles_data.isnull().sum() * 100 / len(vehicles_data)\n",
    "missing_value_df = pd.DataFrame({'column_name': vehicles_data.columns,\n",
    "                                 'percent_missing': percent_missing})"
   ]
  },
  {
   "cell_type": "code",
   "execution_count": null,
   "id": "458a5932",
   "metadata": {
    "scrolled": true
   },
   "outputs": [],
   "source": [
    "missing_value_df"
   ]
  },
  {
   "cell_type": "markdown",
   "id": "a8e0d012",
   "metadata": {},
   "source": [
    "msno.matrix(vehicles_data, color = (0.5, 0.5, 0.5))"
   ]
  },
  {
   "cell_type": "markdown",
   "id": "f62696ce",
   "metadata": {},
   "source": [
    "# Handing outliers"
   ]
  },
  {
   "cell_type": "code",
   "execution_count": null,
   "id": "ef4420ba",
   "metadata": {
    "scrolled": true
   },
   "outputs": [],
   "source": [
    "df = vehicles_data[vehicles_data['year'] == 2007][\"price\"]\n",
    "print(df.max())"
   ]
  },
  {
   "cell_type": "code",
   "execution_count": null,
   "id": "3f7b2152",
   "metadata": {
    "scrolled": true
   },
   "outputs": [],
   "source": [
    "df = vehicles_data[vehicles_data['year'] == 1999][\"price\"]\n",
    "print(df.max())"
   ]
  },
  {
   "cell_type": "code",
   "execution_count": null,
   "id": "6c07d2ef",
   "metadata": {
    "scrolled": true
   },
   "outputs": [],
   "source": [
    "filtered_df = vehicles_data[vehicles_data[\"price\"] == 3736928711]"
   ]
  },
  {
   "cell_type": "code",
   "execution_count": null,
   "id": "31e0f05a",
   "metadata": {
    "scrolled": true
   },
   "outputs": [],
   "source": [
    "vehicles_data.drop(vehicles_data[vehicles_data['price'] == 3736928711].index, inplace = True)"
   ]
  },
  {
   "cell_type": "code",
   "execution_count": null,
   "id": "c306baf0",
   "metadata": {
    "scrolled": true
   },
   "outputs": [],
   "source": [
    "vehicles_data.drop(vehicles_data[vehicles_data['price'] == 1111111111].index, inplace = True)"
   ]
  },
  {
   "cell_type": "code",
   "execution_count": null,
   "id": "9bc38749",
   "metadata": {
    "scrolled": true
   },
   "outputs": [],
   "source": [
    "df = vehicles_data[vehicles_data['year'] == 2015][\"price\"]\n",
    "print(df.max())"
   ]
  },
  {
   "cell_type": "code",
   "execution_count": null,
   "id": "1b9fcfe4",
   "metadata": {
    "scrolled": true
   },
   "outputs": [],
   "source": [
    "# removing Outlier prices\n",
    "vehicles_data.drop(vehicles_data[vehicles_data['price'] == 3736928711].index, inplace = True)\n",
    "vehicles_data.drop(vehicles_data[vehicles_data['price'] == 1111111111].index, inplace = True)\n",
    "vehicles_data.drop(vehicles_data[vehicles_data['price'] == 123456789].index, inplace = True)\n",
    "vehicles_data.drop(vehicles_data[vehicles_data['price'] == 17000000].index, inplace = True)\n",
    "vehicles_data.drop(vehicles_data[vehicles_data['price'] == 6995495].index, inplace = True)\n",
    "vehicles_data.drop(vehicles_data[vehicles_data['price'] == 2000000].index, inplace = True)\n",
    "vehicles_data.drop(vehicles_data[vehicles_data['price'] == 1234567].index, inplace = True)\n",
    "vehicles_data.drop(vehicles_data[vehicles_data['price'] == 990000].index, inplace = True)\n",
    "vehicles_data.drop(vehicles_data[vehicles_data['price'] == 135008900].index, inplace = True)"
   ]
  },
  {
   "cell_type": "code",
   "execution_count": null,
   "id": "5e4bb187",
   "metadata": {
    "scrolled": true
   },
   "outputs": [],
   "source": [
    "fig = px.scatter(vehicles_data, x = 'odometer', y = 'price', color = 'fuel')\n",
    "fig.show()"
   ]
  },
  {
   "cell_type": "code",
   "execution_count": null,
   "id": "d50f7b7c",
   "metadata": {
    "scrolled": true
   },
   "outputs": [],
   "source": [
    "# removing odometer > 5000000\n",
    "vehicles_data.drop(vehicles_data[vehicles_data['odometer'] >= 5000000].index,inplace = True)"
   ]
  },
  {
   "cell_type": "code",
   "execution_count": null,
   "id": "14fe00c8",
   "metadata": {
    "scrolled": true
   },
   "outputs": [],
   "source": [
    "fig = px.scatter(vehicles_data, x = 'odometer', y = 'price', color = 'fuel')\n",
    "fig.show()"
   ]
  },
  {
   "cell_type": "code",
   "execution_count": null,
   "id": "949ff4db",
   "metadata": {
    "scrolled": true
   },
   "outputs": [],
   "source": [
    "# copy the data for analysis to find correlation for non missing cylinder values\n",
    "vehicles_data_cyldrop = vehicles_data.copy()"
   ]
  },
  {
   "cell_type": "code",
   "execution_count": null,
   "id": "ededdbf4",
   "metadata": {
    "scrolled": true
   },
   "outputs": [],
   "source": [
    "vehicles_data_cyldrop.dropna(subset=['cylinders','drive','condition','paint_color'], inplace = True)"
   ]
  },
  {
   "cell_type": "code",
   "execution_count": null,
   "id": "8dfc2f2b",
   "metadata": {
    "scrolled": true
   },
   "outputs": [],
   "source": [
    "fig = px.scatter(vehicles_data_cyldrop, x = 'cylinders', y = 'price', color = 'cylinders')\n",
    "fig.show()"
   ]
  },
  {
   "cell_type": "code",
   "execution_count": null,
   "id": "9f6b46c6",
   "metadata": {
    "scrolled": true
   },
   "outputs": [],
   "source": [
    "# replace the huge name of model with a short value for a better graph\n",
    "vehicles_data_cyldrop['model'] = np.where(vehicles_data_cyldrop['model'].str.contains('impreza sedan premium')\n",
    "                                          , 'impreza', vehicles_data_cyldrop['model'])"
   ]
  },
  {
   "cell_type": "code",
   "execution_count": null,
   "id": "9929c180",
   "metadata": {
    "scrolled": true
   },
   "outputs": [],
   "source": [
    "fig = px.scatter(vehicles_data_cyldrop, x = 'paint_color', y = 'price', color = 'manufacturer')\n",
    "fig.show()"
   ]
  },
  {
   "cell_type": "code",
   "execution_count": null,
   "id": "595848e1",
   "metadata": {
    "scrolled": true
   },
   "outputs": [],
   "source": [
    "filtered_df = vehicles_data[vehicles_data['paint_color'].isnull()]"
   ]
  },
  {
   "cell_type": "markdown",
   "id": "9fe19aa3",
   "metadata": {},
   "source": [
    "# Null values analysis on basis of Description"
   ]
  },
  {
   "cell_type": "code",
   "execution_count": null,
   "id": "32aea097",
   "metadata": {
    "scrolled": true
   },
   "outputs": [],
   "source": [
    "def extract_color(expression):\n",
    "    pattern = r\"Color: ([A-Za-z]+)\"\n",
    "    color = re.search(pattern, expression)\n",
    "    if color:\n",
    "        return color.group(1)\n",
    "    return None"
   ]
  },
  {
   "cell_type": "code",
   "execution_count": null,
   "id": "52736c87",
   "metadata": {
    "scrolled": true
   },
   "outputs": [],
   "source": [
    "filtered_df[\"color\"] = filtered_df[\"description\"].apply(extract_color)"
   ]
  },
  {
   "cell_type": "code",
   "execution_count": null,
   "id": "e38d5d17",
   "metadata": {
    "scrolled": true
   },
   "outputs": [],
   "source": [
    "filtered_df[\"color\"].value_counts()"
   ]
  },
  {
   "cell_type": "code",
   "execution_count": null,
   "id": "eb2e8d81",
   "metadata": {
    "scrolled": true
   },
   "outputs": [],
   "source": [
    "vehicles_data.isna().sum()"
   ]
  },
  {
   "cell_type": "code",
   "execution_count": null,
   "id": "be2c1d8e",
   "metadata": {
    "scrolled": true
   },
   "outputs": [],
   "source": [
    "vehicles_data_paint = vehicles_data.copy()"
   ]
  },
  {
   "cell_type": "code",
   "execution_count": null,
   "id": "8e5b0653",
   "metadata": {
    "scrolled": true
   },
   "outputs": [],
   "source": [
    "def extract_color(expression):\n",
    "    pattern = r\"Color: ([A-Za-z]+)\"\n",
    "    color = re.search(pattern, expression)\n",
    "    if color:\n",
    "        return color.group(1)\n",
    "    return None"
   ]
  },
  {
   "cell_type": "code",
   "execution_count": null,
   "id": "5f7f3766",
   "metadata": {
    "scrolled": true
   },
   "outputs": [],
   "source": [
    "vehicles_data_paint[\"paint_color\"] = vehicles_data_paint[\"paint_color\"].where(~vehicles_data_paint[\"paint_color\"].isnull(), \n",
    "                                                                              vehicles_data_paint[\"description\"].apply(extract_color))"
   ]
  },
  {
   "cell_type": "code",
   "execution_count": null,
   "id": "88e8e985",
   "metadata": {
    "scrolled": true
   },
   "outputs": [],
   "source": [
    "vehicles_data_paint[\"paint_color\"].unique()"
   ]
  },
  {
   "cell_type": "markdown",
   "id": "ea7c0127",
   "metadata": {},
   "source": [
    "# From Drive column"
   ]
  },
  {
   "cell_type": "code",
   "execution_count": null,
   "id": "08320e25",
   "metadata": {
    "scrolled": true
   },
   "outputs": [],
   "source": [
    "def extract_drive_type(expression):\n",
    "    pattern = r\"Drive: ([A-Za-z0-9]+)\"\n",
    "    drive_type = re.search(pattern, expression)\n",
    "    if drive_type:\n",
    "        return drive_type.group(1)\n",
    "    return None"
   ]
  },
  {
   "cell_type": "code",
   "execution_count": null,
   "id": "e3fb2c35",
   "metadata": {
    "scrolled": true
   },
   "outputs": [],
   "source": [
    "vehicles_data_paint[\"drive\"] = vehicles_data_paint[\"drive\"].where(~vehicles_data_paint[\"drive\"].isnull(), \n",
    "                                                                  vehicles_data_paint[\"description\"].apply(extract_drive_type))"
   ]
  },
  {
   "cell_type": "code",
   "execution_count": null,
   "id": "03d0f95b",
   "metadata": {
    "scrolled": true
   },
   "outputs": [],
   "source": [
    "vehicles_data_paint[\"drive\"].value_counts()"
   ]
  },
  {
   "cell_type": "code",
   "execution_count": null,
   "id": "aa5f58a2",
   "metadata": {
    "scrolled": true
   },
   "outputs": [],
   "source": [
    "vehicles_data_paint.isna().sum()"
   ]
  },
  {
   "cell_type": "code",
   "execution_count": null,
   "id": "5f0acab1",
   "metadata": {
    "scrolled": true
   },
   "outputs": [],
   "source": [
    "vehicles_data_cyldrop\n",
    "\n",
    "fig = px.scatter(vehicles_data_cyldrop, x = 'drive', y = 'price', color = 'cylinders')\n",
    "fig.show()"
   ]
  },
  {
   "cell_type": "code",
   "execution_count": null,
   "id": "05e6489e",
   "metadata": {
    "scrolled": true
   },
   "outputs": [],
   "source": [
    "fig = px.scatter(vehicles_data_cyldrop, x = 'type', y = 'price', color = 'cylinders')\n",
    "fig.show()"
   ]
  },
  {
   "cell_type": "code",
   "execution_count": null,
   "id": "6fb89bdd",
   "metadata": {
    "scrolled": true
   },
   "outputs": [],
   "source": [
    "fig = px.scatter(vehicles_data_cyldrop, x = 'paint_color', y = 'price', color = 'model')\n",
    "fig.show()"
   ]
  },
  {
   "cell_type": "code",
   "execution_count": null,
   "id": "6e0242b0",
   "metadata": {
    "scrolled": true
   },
   "outputs": [],
   "source": [
    "# Import libraries and loading the csv file\n",
    "import pandas as pd\n",
    "import seaborn as sns\n",
    "import matplotlib.pyplot as plt\n",
    "import numpy as np\n",
    "import seaborn as sns\n",
    "import warnings\n",
    "warnings.filterwarnings(\"ignore\")\n",
    "import missingno as msno\n",
    "import plotly.express as px\n",
    "import sweetviz as sv\n",
    "from kmodes.kprototypes import KPrototypes\n",
    "import scipy.stats as stats\n",
    "from scipy.stats import chi2\n",
    "vehicles_data_initial = pd.read_csv(r\"C:\\Users\\91886\\OneDrive\\QMUL Masterclass\\vehicles.csv\")"
   ]
  },
  {
   "cell_type": "code",
   "execution_count": null,
   "id": "b0cae74d",
   "metadata": {
    "scrolled": true
   },
   "outputs": [],
   "source": [
    "vehicles_data =  vehicles_data_initial.copy()\n",
    "sample = vehicles_data_initial.copy()"
   ]
  },
  {
   "cell_type": "code",
   "execution_count": null,
   "id": "103aa4f9",
   "metadata": {
    "scrolled": true
   },
   "outputs": [],
   "source": [
    "vehicles_data[vehicles_data[\"price\"] < 500]"
   ]
  },
  {
   "cell_type": "code",
   "execution_count": null,
   "id": "e7f15b60",
   "metadata": {
    "scrolled": true
   },
   "outputs": [],
   "source": [
    "vehicles_data.drop(vehicles_data[vehicles_data['price'] < 500].index, inplace = True)"
   ]
  },
  {
   "cell_type": "code",
   "execution_count": null,
   "id": "1ad1fde2",
   "metadata": {
    "scrolled": true
   },
   "outputs": [],
   "source": [
    "vehicles_data.drop(['url', 'region_url','image_url','county','VIN','size'], axis=1,inplace = True)"
   ]
  },
  {
   "cell_type": "code",
   "execution_count": null,
   "id": "618fce91",
   "metadata": {
    "scrolled": true
   },
   "outputs": [],
   "source": [
    "vehicles_data.shape"
   ]
  },
  {
   "cell_type": "code",
   "execution_count": null,
   "id": "0e672939",
   "metadata": {
    "scrolled": true
   },
   "outputs": [],
   "source": [
    "msno.matrix(vehicles_data, color = (0.5, 0.5, 0.5))"
   ]
  },
  {
   "cell_type": "code",
   "execution_count": null,
   "id": "7c596421",
   "metadata": {
    "scrolled": true
   },
   "outputs": [],
   "source": [
    "percent_missing = vehicles_data.isnull().sum() * 100 / len(vehicles_data)\n",
    "missing_value_df = pd.DataFrame({'column_name': vehicles_data.columns,\n",
    "                                 'percent_missing': percent_missing})"
   ]
  },
  {
   "cell_type": "code",
   "execution_count": null,
   "id": "8d42f65b",
   "metadata": {
    "scrolled": true
   },
   "outputs": [],
   "source": [
    "missing_value_df"
   ]
  },
  {
   "cell_type": "code",
   "execution_count": null,
   "id": "246a60c2",
   "metadata": {
    "scrolled": true
   },
   "outputs": [],
   "source": [
    "vehicles_data.drop(vehicles_data[vehicles_data['year'] < 1990].index, inplace = True)"
   ]
  },
  {
   "cell_type": "code",
   "execution_count": null,
   "id": "2b4641d7",
   "metadata": {
    "scrolled": true
   },
   "outputs": [],
   "source": [
    "vehicles_data.dropna(axis = 0,thresh=17,inplace = True)"
   ]
  },
  {
   "cell_type": "code",
   "execution_count": null,
   "id": "83a90eb4",
   "metadata": {
    "scrolled": true
   },
   "outputs": [],
   "source": [
    "vehicles_data.dropna(subset=['manufacturer', 'model','odometer','title_status','fuel',\n",
    "                               'transmission','lat','long','year','description'], inplace = True)"
   ]
  },
  {
   "cell_type": "code",
   "execution_count": null,
   "id": "75fb4060",
   "metadata": {
    "scrolled": true
   },
   "outputs": [],
   "source": [
    "msno.matrix(vehicles_data, color = (0.5, 0.5, 0.5))"
   ]
  },
  {
   "cell_type": "code",
   "execution_count": null,
   "id": "9362ab7b",
   "metadata": {
    "scrolled": true
   },
   "outputs": [],
   "source": [
    "percent_missing = vehicles_data.isnull().sum() * 100 / len(vehicles_data)\n",
    "missing_value_df = pd.DataFrame({'column_name': vehicles_data.columns,\n",
    "                                 'percent_missing': percent_missing})\n",
    "missing_value_df"
   ]
  },
  {
   "cell_type": "code",
   "execution_count": null,
   "id": "8ebc8d08",
   "metadata": {
    "scrolled": true
   },
   "outputs": [],
   "source": [
    "vehicles_data.shape"
   ]
  },
  {
   "cell_type": "code",
   "execution_count": null,
   "id": "7bab40a6",
   "metadata": {
    "scrolled": true
   },
   "outputs": [],
   "source": [
    "# To find records with fuel as electric and cylinders as NULL\n",
    "condition1 = pd.isna(vehicles_data_initial[\"cylinders\"])\n",
    "condition2 = vehicles_data[\"fuel\"] == 'electric'"
   ]
  },
  {
   "cell_type": "code",
   "execution_count": null,
   "id": "f022c4e3",
   "metadata": {
    "scrolled": true
   },
   "outputs": [],
   "source": [
    "# Use the & operator to combine the conditions\n",
    "filtered_df = vehicles_data[condition1 & condition2]"
   ]
  },
  {
   "cell_type": "code",
   "execution_count": null,
   "id": "445cf679",
   "metadata": {
    "scrolled": true
   },
   "outputs": [],
   "source": [
    "# imputing electric car cylinders to 0\n",
    "vehicles_data['cylinders'] = np.where(pd.isna(vehicles_data[\"cylinders\"]) & (vehicles_data[\"fuel\"] == 'electric')\n",
    "                                      ,0,vehicles_data['cylinders'])"
   ]
  },
  {
   "cell_type": "code",
   "execution_count": null,
   "id": "5ea0df3f",
   "metadata": {
    "scrolled": true
   },
   "outputs": [],
   "source": [
    "# Data correction for fuel type as electric and number of cylinders as non zero\n",
    "vehicles_data[vehicles_data[\"fuel\"] == 'electric'][\"cylinders\"].value_counts()\n",
    "vehicles_data['cylinders'] = np.where((vehicles_data['fuel'] == 'electric') & (vehicles_data['cylinders'] != 0), \n",
    "                                         0, vehicles_data['cylinders'])"
   ]
  },
  {
   "cell_type": "code",
   "execution_count": null,
   "id": "f10baab0",
   "metadata": {
    "scrolled": true
   },
   "outputs": [],
   "source": [
    "# Dropping Null values from Type\n",
    "\n",
    "vehicles_data.dropna(subset=['type'], inplace = True)"
   ]
  },
  {
   "cell_type": "code",
   "execution_count": null,
   "id": "006ec601",
   "metadata": {
    "scrolled": true
   },
   "outputs": [],
   "source": [
    "vehicles_data.shape"
   ]
  },
  {
   "cell_type": "code",
   "execution_count": null,
   "id": "2e89fcc1",
   "metadata": {
    "scrolled": true
   },
   "outputs": [],
   "source": [
    "percent_missing = vehicles_data.isnull().sum() * 100 / len(vehicles_data)\n",
    "missing_value_df = pd.DataFrame({'column_name': vehicles_data.columns,\n",
    "                                 'percent_missing': percent_missing})"
   ]
  },
  {
   "cell_type": "code",
   "execution_count": null,
   "id": "da8f4bde",
   "metadata": {
    "scrolled": true
   },
   "outputs": [],
   "source": [
    "missing_value_df"
   ]
  },
  {
   "cell_type": "code",
   "execution_count": null,
   "id": "150e55b0",
   "metadata": {
    "scrolled": true
   },
   "outputs": [],
   "source": [
    "msno.matrix(vehicles_data, color = (0.5, 0.5, 0.5))"
   ]
  },
  {
   "cell_type": "markdown",
   "id": "ac3db24b",
   "metadata": {},
   "source": [
    "# Handing outliers"
   ]
  },
  {
   "cell_type": "code",
   "execution_count": null,
   "id": "d46bb1d9",
   "metadata": {
    "scrolled": true
   },
   "outputs": [],
   "source": [
    "df = vehicles_data[vehicles_data['year'] == 2007][\"price\"]\n",
    "print(df.max())"
   ]
  },
  {
   "cell_type": "code",
   "execution_count": null,
   "id": "51ab918d",
   "metadata": {
    "scrolled": true
   },
   "outputs": [],
   "source": [
    "df = vehicles_data[vehicles_data['year'] == 1999][\"price\"]\n",
    "print(df.max())"
   ]
  },
  {
   "cell_type": "code",
   "execution_count": null,
   "id": "4606c3ef",
   "metadata": {
    "scrolled": true
   },
   "outputs": [],
   "source": [
    "filtered_df = vehicles_data[vehicles_data[\"price\"] == 3736928711]"
   ]
  },
  {
   "cell_type": "code",
   "execution_count": null,
   "id": "b2461b2f",
   "metadata": {
    "scrolled": true
   },
   "outputs": [],
   "source": [
    "vehicles_data.drop(vehicles_data[vehicles_data['price'] == 3736928711].index, inplace = True)"
   ]
  },
  {
   "cell_type": "code",
   "execution_count": null,
   "id": "6aefd012",
   "metadata": {
    "scrolled": true
   },
   "outputs": [],
   "source": [
    "vehicles_data.drop(vehicles_data[vehicles_data['price'] == 1111111111].index, inplace = True)"
   ]
  },
  {
   "cell_type": "code",
   "execution_count": null,
   "id": "53849701",
   "metadata": {
    "scrolled": true
   },
   "outputs": [],
   "source": [
    "df = vehicles_data[vehicles_data['year'] == 2015][\"price\"]\n",
    "print(df.max())"
   ]
  },
  {
   "cell_type": "code",
   "execution_count": null,
   "id": "6f9e9a7d",
   "metadata": {
    "scrolled": true
   },
   "outputs": [],
   "source": [
    "# removing Outlier prices\n",
    "vehicles_data.drop(vehicles_data[vehicles_data['price'] == 3736928711].index, inplace = True)\n",
    "vehicles_data.drop(vehicles_data[vehicles_data['price'] == 1111111111].index, inplace = True)\n",
    "vehicles_data.drop(vehicles_data[vehicles_data['price'] == 123456789].index, inplace = True)\n",
    "vehicles_data.drop(vehicles_data[vehicles_data['price'] == 17000000].index, inplace = True)\n",
    "vehicles_data.drop(vehicles_data[vehicles_data['price'] == 6995495].index, inplace = True)\n",
    "vehicles_data.drop(vehicles_data[vehicles_data['price'] == 2000000].index, inplace = True)\n",
    "vehicles_data.drop(vehicles_data[vehicles_data['price'] == 1234567].index, inplace = True)\n",
    "vehicles_data.drop(vehicles_data[vehicles_data['price'] == 990000].index, inplace = True)\n",
    "vehicles_data.drop(vehicles_data[vehicles_data['price'] == 135008900].index, inplace = True)"
   ]
  },
  {
   "cell_type": "code",
   "execution_count": null,
   "id": "d9a54f70",
   "metadata": {
    "scrolled": true
   },
   "outputs": [],
   "source": [
    "fig = px.scatter(vehicles_data, x = 'year', y = 'price', color = 'fuel')\n",
    "fig.show()"
   ]
  },
  {
   "cell_type": "code",
   "execution_count": null,
   "id": "a32c71b6",
   "metadata": {
    "scrolled": true
   },
   "outputs": [],
   "source": [
    "fig = px.scatter(vehicles_data, x = 'odometer', y = 'price', color = 'fuel')\n",
    "fig.show()"
   ]
  },
  {
   "cell_type": "code",
   "execution_count": null,
   "id": "e7d6ca90",
   "metadata": {
    "scrolled": true
   },
   "outputs": [],
   "source": [
    "# removing odometer > 5000000\n",
    "vehicles_data.drop(vehicles_data[vehicles_data['odometer'] >= 5000000].index,inplace = True)"
   ]
  },
  {
   "cell_type": "code",
   "execution_count": null,
   "id": "b00ca885",
   "metadata": {
    "scrolled": true
   },
   "outputs": [],
   "source": [
    "fig = px.scatter(vehicles_data, x = 'odometer', y = 'price', color = 'fuel')\n",
    "fig.show()"
   ]
  },
  {
   "cell_type": "code",
   "execution_count": null,
   "id": "505df3ab",
   "metadata": {
    "scrolled": true
   },
   "outputs": [],
   "source": [
    "# copy the data for analysis to find correlation for non missing cylinder values\n",
    "vehicles_data_cyldrop = vehicles_data.copy()"
   ]
  },
  {
   "cell_type": "code",
   "execution_count": null,
   "id": "36149fe8",
   "metadata": {
    "scrolled": true
   },
   "outputs": [],
   "source": [
    "\n",
    "vehicles_data_cyldrop.dropna(subset=['cylinders','drive','condition','paint_color'], inplace = True)"
   ]
  },
  {
   "cell_type": "code",
   "execution_count": null,
   "id": "76d9337a",
   "metadata": {
    "scrolled": true
   },
   "outputs": [],
   "source": [
    "fig = px.scatter(vehicles_data_cyldrop, x = 'cylinders', y = 'price', color = 'cylinders')\n",
    "fig.show()"
   ]
  },
  {
   "cell_type": "code",
   "execution_count": null,
   "id": "32c33ed6",
   "metadata": {
    "scrolled": true
   },
   "outputs": [],
   "source": [
    "# replace the huge name of model with a short value for a better graph\n",
    "vehicles_data_cyldrop['model'] = np.where(vehicles_data_cyldrop['model'].str.contains('impreza sedan premium')\n",
    "                                          , 'impreza', vehicles_data_cyldrop['model'])"
   ]
  },
  {
   "cell_type": "code",
   "execution_count": null,
   "id": "de941b1d",
   "metadata": {
    "scrolled": true
   },
   "outputs": [],
   "source": [
    "fig = px.scatter(vehicles_data_cyldrop, x = 'paint_color', y = 'price', color = 'manufacturer')\n",
    "fig.show()"
   ]
  },
  {
   "cell_type": "code",
   "execution_count": null,
   "id": "c4a62a46",
   "metadata": {
    "scrolled": true
   },
   "outputs": [],
   "source": [
    "filtered_df = vehicles_data[vehicles_data['paint_color'].isnull()]"
   ]
  },
  {
   "cell_type": "markdown",
   "id": "5b5709ee",
   "metadata": {},
   "source": [
    "# Null values analysis on basis of Description"
   ]
  },
  {
   "cell_type": "code",
   "execution_count": null,
   "id": "3fb112ff",
   "metadata": {
    "scrolled": true
   },
   "outputs": [],
   "source": [
    "def extract_color(expression):\n",
    "    pattern = r\"Color: ([A-Za-z]+)\"\n",
    "    color = re.search(pattern, expression)\n",
    "    if color:\n",
    "        return color.group(1)\n",
    "    return None"
   ]
  },
  {
   "cell_type": "code",
   "execution_count": null,
   "id": "7dc302ca",
   "metadata": {
    "scrolled": true
   },
   "outputs": [],
   "source": [
    "filtered_df[\"color\"] = filtered_df[\"description\"].apply(extract_color)"
   ]
  },
  {
   "cell_type": "code",
   "execution_count": null,
   "id": "e3619dcd",
   "metadata": {
    "scrolled": true
   },
   "outputs": [],
   "source": [
    "filtered_df[\"color\"].value_counts()"
   ]
  },
  {
   "cell_type": "code",
   "execution_count": null,
   "id": "5a5653ba",
   "metadata": {
    "scrolled": true
   },
   "outputs": [],
   "source": [
    "vehicles_data.isna().sum()"
   ]
  },
  {
   "cell_type": "code",
   "execution_count": null,
   "id": "b4bbca4b",
   "metadata": {
    "scrolled": true
   },
   "outputs": [],
   "source": [
    "vehicles_data_paint = vehicles_data.copy()"
   ]
  },
  {
   "cell_type": "code",
   "execution_count": null,
   "id": "a4ae8140",
   "metadata": {
    "scrolled": true
   },
   "outputs": [],
   "source": [
    "def extract_color(expression):\n",
    "    pattern = r\"Color: ([A-Za-z]+)\"\n",
    "    color = re.search(pattern, expression)\n",
    "    if color:\n",
    "        return color.group(1)\n",
    "    return None"
   ]
  },
  {
   "cell_type": "code",
   "execution_count": null,
   "id": "c7941e81",
   "metadata": {
    "scrolled": true
   },
   "outputs": [],
   "source": [
    "vehicles_data_paint[\"paint_color\"] = vehicles_data_paint[\"paint_color\"].where(~vehicles_data_paint[\"paint_color\"].isnull(), \n",
    "                                                                              vehicles_data_paint[\"description\"].apply(extract_color))"
   ]
  },
  {
   "cell_type": "code",
   "execution_count": null,
   "id": "386cd325",
   "metadata": {
    "scrolled": true
   },
   "outputs": [],
   "source": [
    "vehicles_data_paint[\"paint_color\"].unique()"
   ]
  },
  {
   "cell_type": "markdown",
   "id": "9a7f91be",
   "metadata": {},
   "source": [
    "# From Drive column"
   ]
  },
  {
   "cell_type": "code",
   "execution_count": null,
   "id": "149553db",
   "metadata": {
    "scrolled": true
   },
   "outputs": [],
   "source": [
    "def extract_drive_type(expression):\n",
    "    pattern = r\"Drive: ([A-Za-z0-9]+)\"\n",
    "    drive_type = re.search(pattern, expression)\n",
    "    if drive_type:\n",
    "        return drive_type.group(1)\n",
    "    return None"
   ]
  },
  {
   "cell_type": "code",
   "execution_count": null,
   "id": "acfe7f08",
   "metadata": {
    "scrolled": true
   },
   "outputs": [],
   "source": [
    "vehicles_data_paint[\"drive\"] = vehicles_data_paint[\"drive\"].where(~vehicles_data_paint[\"drive\"].isnull(), \n",
    "                                                                  vehicles_data_paint[\"description\"].apply(extract_drive_type))"
   ]
  },
  {
   "cell_type": "code",
   "execution_count": null,
   "id": "dc0d19b0",
   "metadata": {
    "scrolled": true
   },
   "outputs": [],
   "source": [
    "vehicles_data_paint[\"drive\"].value_counts()"
   ]
  },
  {
   "cell_type": "code",
   "execution_count": null,
   "id": "ea3147ab",
   "metadata": {
    "scrolled": true
   },
   "outputs": [],
   "source": [
    "vehicles_data_paint.isna().sum()"
   ]
  },
  {
   "cell_type": "code",
   "execution_count": null,
   "id": "4e3a34b8",
   "metadata": {
    "scrolled": true
   },
   "outputs": [],
   "source": [
    "vehicles_data_cyldrop\n",
    "\n",
    "fig = px.scatter(vehicles_data_cyldrop, x = 'drive', y = 'price', color = 'cylinders')\n",
    "fig.show()"
   ]
  },
  {
   "cell_type": "code",
   "execution_count": null,
   "id": "6293e7b2",
   "metadata": {
    "scrolled": true
   },
   "outputs": [],
   "source": [
    "fig = px.scatter(vehicles_data_cyldrop, x = 'type', y = 'price', color = 'cylinders')\n",
    "fig.show()"
   ]
  },
  {
   "cell_type": "code",
   "execution_count": null,
   "id": "ecf91019",
   "metadata": {
    "scrolled": true
   },
   "outputs": [],
   "source": [
    "fig = px.scatter(vehicles_data_cyldrop, x = 'paint_color', y = 'price', color = 'model')\n",
    "fig.show()"
   ]
  }
 ],
 "metadata": {
  "kernelspec": {
   "display_name": "Python 3 (ipykernel)",
   "language": "python",
   "name": "python3"
  },
  "language_info": {
   "codemirror_mode": {
    "name": "ipython",
    "version": 3
   },
   "file_extension": ".py",
   "mimetype": "text/x-python",
   "name": "python",
   "nbconvert_exporter": "python",
   "pygments_lexer": "ipython3",
   "version": "3.9.12"
  }
 },
 "nbformat": 4,
 "nbformat_minor": 5
}
