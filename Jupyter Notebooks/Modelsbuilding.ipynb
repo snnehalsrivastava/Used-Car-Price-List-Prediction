{
 "cells": [
  {
   "cell_type": "code",
   "execution_count": null,
   "id": "421075ab",
   "metadata": {
    "scrolled": true
   },
   "outputs": [],
   "source": [
    "# Import libraries and loading the csv file\n",
    "import pandas as pd\n",
    "import matplotlib.pyplot as plt\n",
    "import numpy as np\n",
    "import string\n",
    "import nltk\n",
    "from nltk.corpus import stopwords\n",
    "from nltk.stem import WordNetLemmatizer\n",
    "from nltk.tokenize import word_tokenize\n",
    "nltk.download('punkt')\n",
    "nltk.download('omw-1.4')\n",
    "from sklearn.pipeline import Pipeline\n",
    "from sklearn.base import TransformerMixin\n",
    "from sklearn.pipeline import Pipeline\n",
    "from sklearn.base import BaseEstimator, TransformerMixin\n",
    "from sklearn.linear_model import LinearRegression\n",
    "from sklearn.metrics import mean_squared_error,r2_score\n",
    "from sklearn.compose import ColumnTransformer\n",
    "from sklearn.preprocessing import OneHotEncoder\n",
    "from sklearn.preprocessing import PolynomialFeatures\n",
    "from sklearn.tree import DecisionTreeRegressor\n",
    "from sklearn.impute import SimpleImputer\n",
    "from sklearn.preprocessing import StandardScaler\n",
    "from math import sqrt\n",
    "from sklearn.ensemble import RandomForestRegressor\n",
    "from sklearn.datasets import make_regression\n",
    "import seaborn as sns\n",
    "from sklearn.model_selection import RandomizedSearchCV"
   ]
  },
  {
   "cell_type": "code",
   "execution_count": null,
   "id": "d3700c35",
   "metadata": {},
   "outputs": [],
   "source": [
    "vehicles_clean = pd.read_csv(r\"C:\\Users\\91886\\Downloads\\vehicles_allclean_imputer.csv\")"
   ]
  },
  {
   "cell_type": "code",
   "execution_count": null,
   "id": "026da330",
   "metadata": {},
   "outputs": [],
   "source": [
    "vehicles_clean.info()"
   ]
  },
  {
   "cell_type": "code",
   "execution_count": null,
   "id": "f5a0db12",
   "metadata": {},
   "outputs": [],
   "source": [
    "vehicles_clean.isna().sum()"
   ]
  },
  {
   "cell_type": "code",
   "execution_count": null,
   "id": "3daed746",
   "metadata": {},
   "outputs": [],
   "source": [
    "vehicles_clean.drop(['condition','id','posting_date','model','description'], axis=1,inplace = True)"
   ]
  },
  {
   "cell_type": "code",
   "execution_count": null,
   "id": "108ee61b",
   "metadata": {},
   "outputs": [],
   "source": [
    "from sklearn.model_selection import train_test_split\n",
    "import pandas as pd\n",
    "\n",
    "# define the features and target variables\n",
    "X = vehicles_clean.drop('price', axis=1)\n",
    "y = vehicles_clean['price']\n",
    "\n",
    "# divide the data into train, validation, and test sets\n",
    "X_train, X_test, y_train, y_test = train_test_split(X, y, test_size=0.2, random_state=42)\n",
    "X_train, X_val, y_train, y_val = train_test_split(X_train, y_train, test_size=0.25, random_state=42)\n",
    "\n",
    "# display the shapes of the resulting datasets\n",
    "print(f\"Training set shape: {X_train.shape}, {y_train.shape}\")\n",
    "print(f\"Validation set shape: {X_val.shape}, {y_val.shape}\")\n",
    "print(f\"Test set shape: {X_test.shape}, {y_test.shape}\")"
   ]
  },
  {
   "cell_type": "code",
   "execution_count": null,
   "id": "6c02d13f",
   "metadata": {},
   "outputs": [],
   "source": [
    "type(X_train)"
   ]
  },
  {
   "cell_type": "code",
   "execution_count": null,
   "id": "3866cd6d",
   "metadata": {},
   "outputs": [],
   "source": [
    "type(X_val)"
   ]
  },
  {
   "cell_type": "code",
   "execution_count": null,
   "id": "083a1086",
   "metadata": {},
   "outputs": [],
   "source": [
    "X_train.dtypes"
   ]
  },
  {
   "cell_type": "code",
   "execution_count": null,
   "id": "9a2476f1",
   "metadata": {},
   "outputs": [],
   "source": [
    "cat_cols = ['region', 'manufacturer', 'fuel', 'title_status', 'transmission', 'type', 'paint_color', 'state', 'drive']\n",
    "num_cols = ['year','cylinders','odometer','lat','long','price']\n",
    "# define the pipeline to perform one-hot encoding\n",
    "ohe_pipeline = Pipeline([\n",
    "    ('ohe_transformer', ColumnTransformer(\n",
    "        transformers=[\n",
    "            ('one_hot_encoder', OneHotEncoder(handle_unknown='ignore', sparse=False), cat_cols)\n",
    "        ],\n",
    "        remainder='passthrough'\n",
    "    ))\n",
    "])"
   ]
  },
  {
   "cell_type": "code",
   "execution_count": null,
   "id": "c168f4c9",
   "metadata": {},
   "outputs": [],
   "source": [
    "X_train = ohe_pipeline.fit_transform(X_train)\n",
    "X_val = ohe_pipeline.transform(X_val)\n",
    "X_test = ohe_pipeline.transform(X_test)"
   ]
  },
  {
   "cell_type": "code",
   "execution_count": null,
   "id": "50ebc311",
   "metadata": {},
   "outputs": [],
   "source": [
    "# class DataFrameSelector(BaseEstimator, TransformerMixin):\n",
    "#     def __init__(self, feature_names):\n",
    "#         self.attribute_names = feature_names\n",
    "#     def fit(self, X, y=None):\n",
    "#         return self\n",
    "#     def transform(self, X):\n",
    "#         return X[self.attribute_names].values"
   ]
  },
  {
   "cell_type": "code",
   "execution_count": null,
   "id": "0923bf63",
   "metadata": {},
   "outputs": [],
   "source": [
    "# # Impute fills missing numerals by the median of the remaining data\n",
    "# imputer = SimpleImputer(strategy=\"median\")\n",
    "\n",
    "# # The imputer is fit on the training data. It can then also be applied to the test data (without a refit)\n",
    "# num_pipeline = Pipeline([\n",
    "#         ('selector', DataFrameSelector(num_cols)),\n",
    "#         ('imputer', SimpleImputer(strategy=\"median\")),\n",
    "#         ('std_scaler', StandardScaler())\n",
    "#     ])"
   ]
  },
  {
   "cell_type": "code",
   "execution_count": null,
   "id": "ba481d68",
   "metadata": {},
   "outputs": [],
   "source": [
    "# X_train = num_pipeline.fit_transform(X_train)"
   ]
  },
  {
   "cell_type": "code",
   "execution_count": null,
   "id": "8ab3ab2c",
   "metadata": {},
   "outputs": [],
   "source": [
    "type(X_val)"
   ]
  },
  {
   "cell_type": "markdown",
   "id": "a761d453",
   "metadata": {},
   "source": [
    "# Linear Regression"
   ]
  },
  {
   "cell_type": "code",
   "execution_count": null,
   "id": "5e76b4ed",
   "metadata": {},
   "outputs": [],
   "source": [
    "linreg_model = LinearRegression()\n",
    "linreg_model.fit(X_train, y_train)"
   ]
  },
  {
   "cell_type": "code",
   "execution_count": null,
   "id": "9c71bf9a",
   "metadata": {},
   "outputs": [],
   "source": [
    "y_val_pred = linreg_model.predict(X_val)"
   ]
  },
  {
   "cell_type": "code",
   "execution_count": null,
   "id": "2eaee10b",
   "metadata": {},
   "outputs": [],
   "source": [
    "mse_val = mean_squared_error(y_val, y_val_pred)\n",
    "r2 = r2_score(y_val, y_val_pred)"
   ]
  },
  {
   "cell_type": "code",
   "execution_count": null,
   "id": "7eca1d7e",
   "metadata": {},
   "outputs": [],
   "source": [
    "print('Mean squared error on validation data:', np.sqrt(mse_val))\n",
    "print(\"R-squared:\", r2)"
   ]
  },
  {
   "cell_type": "code",
   "execution_count": null,
   "id": "19d5fe9a",
   "metadata": {},
   "outputs": [],
   "source": [
    "y_val_pred = pd.DataFrame(y_val_pred, columns = ['Predicted Output'])\n",
    "lin_reg_results = pd.concat([y_val_pred, y_val.to_frame().reset_index(drop = True)], axis = 1, ignore_index = False) "
   ]
  },
  {
   "cell_type": "code",
   "execution_count": null,
   "id": "92efb0c5",
   "metadata": {},
   "outputs": [],
   "source": [
    "plt.figure(figsize = (10, 10))\n",
    "sns.regplot(data = lin_reg_results, y = 'Predicted Output', x = 'price', color = 'coral', marker = 'o')\n",
    "plt.title(\"Comparision of predicted values and the actual values\", fontsize = 20)\n",
    "plt.show()"
   ]
  },
  {
   "cell_type": "code",
   "execution_count": null,
   "id": "a6de7e49",
   "metadata": {},
   "outputs": [],
   "source": [
    "#Lin Reg on log transformed target variable"
   ]
  },
  {
   "cell_type": "code",
   "execution_count": null,
   "id": "a08f88a1",
   "metadata": {},
   "outputs": [],
   "source": [
    "# Log transform the target variable\n",
    "y_train_log = np.log(y_train)"
   ]
  },
  {
   "cell_type": "code",
   "execution_count": null,
   "id": "8c57fa98",
   "metadata": {},
   "outputs": [],
   "source": [
    "# Fit the model to the log-transformed target variable\n",
    "linreg_model.fit(X_train, y_train_log)"
   ]
  },
  {
   "cell_type": "code",
   "execution_count": null,
   "id": "d10939b4",
   "metadata": {},
   "outputs": [],
   "source": [
    "# Predict the log-transformed car prices for the validation data\n",
    "y_pred_log = linreg_model.predict(X_val)"
   ]
  },
  {
   "cell_type": "code",
   "execution_count": null,
   "id": "08e049f9",
   "metadata": {},
   "outputs": [],
   "source": [
    "# Transform the predicted values back to the original scale\n",
    "y_pred = np.exp(y_pred_log)"
   ]
  },
  {
   "cell_type": "code",
   "execution_count": null,
   "id": "d021ccb6",
   "metadata": {},
   "outputs": [],
   "source": [
    "# Evaluate the model's performance on the validation data\n",
    "mse = mean_squared_error(y_val, y_pred)\n",
    "r2 = r2_score(y_val, y_pred)"
   ]
  },
  {
   "cell_type": "code",
   "execution_count": null,
   "id": "320cfc02",
   "metadata": {},
   "outputs": [],
   "source": [
    "print('Mean squared error on validation data:', mse_val)\n",
    "print(\"R-squared:\", r2)"
   ]
  },
  {
   "cell_type": "code",
   "execution_count": null,
   "id": "07882953",
   "metadata": {},
   "outputs": [],
   "source": [
    "y_pred = pd.DataFrame(y_pred, columns = ['Predicted Output'])\n",
    "lin_reg_results = pd.concat([y_pred, y_val.to_frame().reset_index(drop = True)], axis = 1, ignore_index = False)"
   ]
  },
  {
   "cell_type": "code",
   "execution_count": null,
   "id": "824e2681",
   "metadata": {},
   "outputs": [],
   "source": [
    "plt.figure(figsize = (10, 10))\n",
    "sns.regplot(data = lin_reg_results, y = 'Predicted Output', x = 'price', color = 'coral', marker = 'o')\n",
    "plt.title(\"Comparision of predicted values and the actual values\", fontsize = 20)\n",
    "plt.show()"
   ]
  },
  {
   "cell_type": "markdown",
   "id": "f9a8713f",
   "metadata": {},
   "source": [
    "# Decision Tree"
   ]
  },
  {
   "cell_type": "code",
   "execution_count": null,
   "id": "da44e5c1",
   "metadata": {},
   "outputs": [],
   "source": [
    "dtr_model = DecisionTreeRegressor(splitter = 'random')\n",
    "dtr_model.fit(X_train, y_train)"
   ]
  },
  {
   "cell_type": "code",
   "execution_count": null,
   "id": "aaad64aa",
   "metadata": {},
   "outputs": [],
   "source": [
    "dtr_predict_train = dtr_model.predict(X_train)"
   ]
  },
  {
   "cell_type": "code",
   "execution_count": null,
   "id": "823e7943",
   "metadata": {},
   "outputs": [],
   "source": [
    "dtr_predict_val = dtr_model.predict(X_val)"
   ]
  },
  {
   "cell_type": "code",
   "execution_count": null,
   "id": "3d5117b9",
   "metadata": {},
   "outputs": [],
   "source": [
    "rmse_train = sqrt(mean_squared_error(y_train, dtr_predict_train)) \n",
    "r2_train = r2_score(y_train, dtr_predict_train)\n",
    "print(rmse_train)\n",
    "print(r2_train)"
   ]
  },
  {
   "cell_type": "code",
   "execution_count": null,
   "id": "75eed6a2",
   "metadata": {},
   "outputs": [],
   "source": [
    "rmse_val = sqrt(mean_squared_error(y_val, dtr_predict_val)) \n",
    "r2_val = r2_score(y_val, dtr_predict_val)\n",
    "print(rmse_val)\n",
    "print(r2_val)"
   ]
  },
  {
   "cell_type": "code",
   "execution_count": null,
   "id": "0b93e016",
   "metadata": {},
   "outputs": [],
   "source": [
    "dtr_predict_val = pd.DataFrame(dtr_predict_val, columns = ['Predicted Val Output'])"
   ]
  },
  {
   "cell_type": "code",
   "execution_count": null,
   "id": "d45d52fb",
   "metadata": {},
   "outputs": [],
   "source": [
    "dtr_results = pd.concat([dtr_predict_val, y_val.to_frame().reset_index(drop = True)], axis = 1, ignore_index = False)"
   ]
  },
  {
   "cell_type": "code",
   "execution_count": null,
   "id": "01a337e1",
   "metadata": {},
   "outputs": [],
   "source": [
    "plt.figure(figsize = (10, 10))\n",
    "sns.regplot(data = dtr_results, y = 'Predicted Val Output', x = 'price', color = 'coral', marker = 'o')\n",
    "plt.title(\"Comparision of predicted values and the actual values\", fontsize = 20)\n",
    "plt.show()"
   ]
  },
  {
   "cell_type": "code",
   "execution_count": null,
   "id": "e384f3eb",
   "metadata": {},
   "outputs": [],
   "source": [
    "#Decision Treee on log transformed target variable"
   ]
  },
  {
   "cell_type": "code",
   "execution_count": null,
   "id": "10f560a7",
   "metadata": {},
   "outputs": [],
   "source": [
    "# Log transform the target variable\n",
    "y_train_log = np.log(y_train)\n",
    "# y_val_log = np.log(y_val)"
   ]
  },
  {
   "cell_type": "code",
   "execution_count": null,
   "id": "72439949",
   "metadata": {},
   "outputs": [],
   "source": [
    "# Fit the model to the log-transformed target variable\n",
    "dtr_model.fit(X_train, y_train_log)"
   ]
  },
  {
   "cell_type": "code",
   "execution_count": null,
   "id": "40eb91fa",
   "metadata": {},
   "outputs": [],
   "source": [
    "dtr_predict_train_log = dtr_model.predict(X_train)"
   ]
  },
  {
   "cell_type": "code",
   "execution_count": null,
   "id": "eedf1306",
   "metadata": {},
   "outputs": [],
   "source": [
    "dtr_predict_val_log = dtr_model.predict(X_val)"
   ]
  },
  {
   "cell_type": "code",
   "execution_count": null,
   "id": "241da390",
   "metadata": {},
   "outputs": [],
   "source": [
    "predict_train = np.exp(dtr_predict_train_log)"
   ]
  },
  {
   "cell_type": "code",
   "execution_count": null,
   "id": "723c3f1a",
   "metadata": {},
   "outputs": [],
   "source": [
    "predict_val = np.exp(dtr_predict_val_log)"
   ]
  },
  {
   "cell_type": "code",
   "execution_count": null,
   "id": "67bc0f95",
   "metadata": {},
   "outputs": [],
   "source": [
    "rmse_train = sqrt(mean_squared_error(y_train, predict_train)) \n",
    "r2_train = r2_score(y_train, predict_train)\n",
    "print(rmse_train)\n",
    "print(r2_train)"
   ]
  },
  {
   "cell_type": "code",
   "execution_count": null,
   "id": "2f3c5283",
   "metadata": {},
   "outputs": [],
   "source": [
    "rmse_val = sqrt(mean_squared_error(y_val, predict_val)) \n",
    "r2_val = r2_score(y_val, predict_val)\n",
    "print(rmse_val)\n",
    "print(r2_val)\n",
    "\n",
    "# W/o log data \n",
    "# 6124.774719287382\n",
    "# 0.8253020280442003"
   ]
  },
  {
   "cell_type": "code",
   "execution_count": null,
   "id": "ef0b5a3e",
   "metadata": {},
   "outputs": [],
   "source": [
    "dtr_predict_val = pd.DataFrame(predict_val, columns = ['Predicted Val Output'])"
   ]
  },
  {
   "cell_type": "code",
   "execution_count": null,
   "id": "afa88942",
   "metadata": {},
   "outputs": [],
   "source": [
    "dtr_results = pd.concat([dtr_predict_val, y_val.to_frame().\n",
    "                         reset_index(drop = True)], axis = 1, ignore_index = False)"
   ]
  },
  {
   "cell_type": "code",
   "execution_count": null,
   "id": "d688b3be",
   "metadata": {},
   "outputs": [],
   "source": [
    "plt.figure(figsize = (10, 10))\n",
    "sns.regplot(data = dtr_results, y = 'Predicted Val Output', x = 'price', color = 'coral', marker = 'o')\n",
    "plt.title(\"Comparision of predicted values and the actual values\", fontsize = 20)\n",
    "plt.show()"
   ]
  },
  {
   "cell_type": "markdown",
   "id": "26f61a3f",
   "metadata": {},
   "source": [
    "# Random Forest"
   ]
  },
  {
   "cell_type": "code",
   "execution_count": null,
   "id": "37b1a081",
   "metadata": {},
   "outputs": [],
   "source": [
    "# Create a random forest regressor with 100 trees\n",
    "rfr_model = RandomForestRegressor(n_estimators=500, max_depth=10, bootstrap=True, random_state=42)\n",
    "\n",
    "# max_depth -> 10 "
   ]
  },
  {
   "cell_type": "code",
   "execution_count": null,
   "id": "011c0751",
   "metadata": {},
   "outputs": [],
   "source": [
    "# fit the model to the training data\n",
    "rfr_model.fit(X_train, y_train)"
   ]
  },
  {
   "cell_type": "code",
   "execution_count": null,
   "id": "9b52dd70",
   "metadata": {},
   "outputs": [],
   "source": [
    "rfr_predict_train = rfr_model.predict(X_train)\n",
    "rfr_predict_val = rfr_model.predict(X_val)"
   ]
  },
  {
   "cell_type": "code",
   "execution_count": null,
   "id": "b4933e6a",
   "metadata": {},
   "outputs": [],
   "source": [
    "rmse_train = sqrt(mean_squared_error(y_train, rfr_predict_train)) \n",
    "r2_train = r2_score(y_train, rfr_predict_train)\n",
    "print(rmse_train)\n",
    "print(r2_train)"
   ]
  },
  {
   "cell_type": "code",
   "execution_count": null,
   "id": "7ccbe916",
   "metadata": {},
   "outputs": [],
   "source": [
    "rmse_val = sqrt(mean_squared_error(y_val, rfr_predict_val)) \n",
    "r2_val = r2_score(y_val, rfr_predict_val)\n",
    "print(rmse_val)\n",
    "print(r2_val)"
   ]
  },
  {
   "cell_type": "code",
   "execution_count": null,
   "id": "adda5260",
   "metadata": {},
   "outputs": [],
   "source": [
    "rfr_predict_val = pd.DataFrame(rfr_predict_val, columns = ['Predicted Val Output'])\n",
    "rfr_results = pd.concat([rfr_predict_val, y_val.to_frame().\n",
    "                         reset_index(drop = True)], axis = 1, ignore_index = False)"
   ]
  },
  {
   "cell_type": "code",
   "execution_count": null,
   "id": "bf52daca",
   "metadata": {},
   "outputs": [],
   "source": [
    "plt.figure(figsize = (10, 10))\n",
    "sns.regplot(data = rfr_results, y = 'Predicted Val Output', x = 'price', color = 'coral', marker = 'o')\n",
    "plt.title(\"Comparision of predicted values and the actual values\", fontsize = 20)\n",
    "plt.show()"
   ]
  },
  {
   "cell_type": "code",
   "execution_count": null,
   "id": "d32ffbb2",
   "metadata": {},
   "outputs": [],
   "source": [
    "# On Log transformed "
   ]
  },
  {
   "cell_type": "code",
   "execution_count": null,
   "id": "56d50819",
   "metadata": {},
   "outputs": [],
   "source": [
    "# Log transform the target variable\n",
    "y_train_log = np.log(y_train)\n",
    "# y_val_log = np.log(y_val)"
   ]
  },
  {
   "cell_type": "code",
   "execution_count": null,
   "id": "705b5981",
   "metadata": {},
   "outputs": [],
   "source": [
    "# Create a random forest regressor with 100 trees\n",
    "rfr_model_log = RandomForestRegressor(n_estimators=500, max_depth=10, bootstrap=True, random_state=42)\n",
    "\n",
    "# max_depth -> 10 "
   ]
  },
  {
   "cell_type": "code",
   "execution_count": null,
   "id": "296c1c52",
   "metadata": {},
   "outputs": [],
   "source": [
    "rfr_model_log.fit(X_train, y_train_log)"
   ]
  },
  {
   "cell_type": "code",
   "execution_count": null,
   "id": "ec352dd7",
   "metadata": {},
   "outputs": [],
   "source": [
    "rfr_predict_train_log = rfr_model_log.predict(X_train)\n",
    "rfr_predict_val_log = rfr_model_log.predict(X_val)"
   ]
  },
  {
   "cell_type": "code",
   "execution_count": null,
   "id": "4b8e56aa",
   "metadata": {},
   "outputs": [],
   "source": [
    "predict_train = np.exp(rfr_predict_train_log)\n",
    "predict_val = np.exp(rfr_predict_val_log)"
   ]
  },
  {
   "cell_type": "code",
   "execution_count": null,
   "id": "415caccc",
   "metadata": {},
   "outputs": [],
   "source": [
    "rmse_train = sqrt(mean_squared_error(y_train, predict_train)) \n",
    "r2_train = r2_score(y_train, predict_train)\n",
    "print(rmse_train)\n",
    "print(r2_train)"
   ]
  },
  {
   "cell_type": "code",
   "execution_count": null,
   "id": "2cc5d3dc",
   "metadata": {},
   "outputs": [],
   "source": [
    "rmse_val = sqrt(mean_squared_error(y_val, predict_val)) \n",
    "r2_val = r2_score(y_val, predict_val)\n",
    "print(rmse_val)\n",
    "print(r2_val)"
   ]
  },
  {
   "cell_type": "code",
   "execution_count": null,
   "id": "0715b0dd",
   "metadata": {},
   "outputs": [],
   "source": [
    "rfr_results = pd.concat([rfr_predict_val, y_val.to_frame().\n",
    "                         reset_index(drop = True)], axis = 1, ignore_index = False)"
   ]
  },
  {
   "cell_type": "code",
   "execution_count": null,
   "id": "9749aac2",
   "metadata": {},
   "outputs": [],
   "source": [
    "plt.figure(figsize = (10, 10))\n",
    "sns.regplot(data = rfr_results, y = 'Predicted Val Output', x = 'price', color = 'coral', marker = 'o')\n",
    "plt.title(\"Comparision of predicted values and the actual values\", fontsize = 20)\n",
    "plt.show()"
   ]
  },
  {
   "cell_type": "markdown",
   "id": "bec3bd4f",
   "metadata": {},
   "source": [
    "# XGBoost"
   ]
  },
  {
   "cell_type": "code",
   "execution_count": null,
   "id": "a5d749fa",
   "metadata": {},
   "outputs": [],
   "source": [
    "from xgboost import XGBRegressor"
   ]
  },
  {
   "cell_type": "code",
   "execution_count": null,
   "id": "3ee5d5ef",
   "metadata": {},
   "outputs": [],
   "source": [
    "xgb_model = XGBRegressor()"
   ]
  },
  {
   "cell_type": "code",
   "execution_count": null,
   "id": "69290255",
   "metadata": {},
   "outputs": [],
   "source": [
    "# fit the model to the training data\n",
    "xgb_model.fit(X_train, y_train)"
   ]
  },
  {
   "cell_type": "code",
   "execution_count": null,
   "id": "2aa0665b",
   "metadata": {},
   "outputs": [],
   "source": [
    "xgb_predict_train = xgb_model.predict(X_train)\n",
    "xgb_predict_val = xgb_model.predict(X_val)"
   ]
  },
  {
   "cell_type": "code",
   "execution_count": null,
   "id": "3c05f149",
   "metadata": {},
   "outputs": [],
   "source": [
    "rmse_train = sqrt(mean_squared_error(y_train, xgb_predict_train)) \n",
    "r2_train = r2_score(y_train, xgb_predict_train)\n",
    "print(rmse_train)\n",
    "print(r2_train)"
   ]
  },
  {
   "cell_type": "code",
   "execution_count": null,
   "id": "42ad278b",
   "metadata": {},
   "outputs": [],
   "source": [
    "rmse_val = sqrt(mean_squared_error(y_val, xgb_predict_val)) \n",
    "r2_val = r2_score(y_val, xgb_predict_val)\n",
    "print(rmse_val)\n",
    "print(r2_val)"
   ]
  },
  {
   "cell_type": "code",
   "execution_count": null,
   "id": "2b9d1ac8",
   "metadata": {},
   "outputs": [],
   "source": [
    "xgb_predict_val = pd.DataFrame(xgb_predict_val, columns = ['Predicted Val Output'])\n",
    "xgb_results = pd.concat([xgb_predict_val, y_val.to_frame().\n",
    "                         reset_index(drop = True)], axis = 1, ignore_index = False)"
   ]
  },
  {
   "cell_type": "code",
   "execution_count": null,
   "id": "6e549bb7",
   "metadata": {
    "scrolled": false
   },
   "outputs": [],
   "source": [
    "plt.figure(figsize = (10, 10))\n",
    "sns.regplot(data = xgb_results, y = 'Predicted Val Output', x = 'price', color = 'coral', marker = 'o')\n",
    "plt.title(\"Comparision of predicted values and the actual values\", fontsize = 20)\n",
    "plt.show()"
   ]
  },
  {
   "cell_type": "code",
   "execution_count": null,
   "id": "46e4262b",
   "metadata": {},
   "outputs": [],
   "source": [
    "# Log transform the target variable\n",
    "y_train_log = np.log(y_train)\n",
    "# y_val_log = np.log(y_val)"
   ]
  },
  {
   "cell_type": "code",
   "execution_count": null,
   "id": "1b24e986",
   "metadata": {},
   "outputs": [],
   "source": [
    "xgb_model.fit(X_train, y_train_log)"
   ]
  },
  {
   "cell_type": "code",
   "execution_count": null,
   "id": "abdca2ef",
   "metadata": {},
   "outputs": [],
   "source": [
    "xgb_predict_train_log = xgb_model.predict(X_train)\n",
    "xgb_predict_val_log = xgb_model.predict(X_val)"
   ]
  },
  {
   "cell_type": "code",
   "execution_count": null,
   "id": "cf4697c2",
   "metadata": {},
   "outputs": [],
   "source": [
    "predict_train = np.exp(xgb_predict_train_log)\n",
    "predict_val = np.exp(xgb_predict_val_log)"
   ]
  },
  {
   "cell_type": "code",
   "execution_count": null,
   "id": "6fb8ff5d",
   "metadata": {},
   "outputs": [],
   "source": [
    "rmse_train = sqrt(mean_squared_error(y_train, predict_train)) \n",
    "r2_train = r2_score(y_train, predict_train)\n",
    "print(rmse_train)\n",
    "print(r2_train)"
   ]
  },
  {
   "cell_type": "code",
   "execution_count": null,
   "id": "4dfe4694",
   "metadata": {},
   "outputs": [],
   "source": [
    "rmse_val = sqrt(mean_squared_error(y_val, predict_val)) \n",
    "r2_val = r2_score(y_val, predict_val)\n",
    "print(rmse_val)\n",
    "print(r2_val)"
   ]
  },
  {
   "cell_type": "code",
   "execution_count": null,
   "id": "7743e50c",
   "metadata": {},
   "outputs": [],
   "source": [
    "predict_val = pd.DataFrame(predict_val, columns = ['Predicted Val Output'])\n",
    "xgb_results = pd.concat([predict_val, y_val.to_frame().\n",
    "                         reset_index(drop = True)], axis = 1, ignore_index = False)"
   ]
  },
  {
   "cell_type": "code",
   "execution_count": null,
   "id": "e556bad1",
   "metadata": {},
   "outputs": [],
   "source": [
    "plt.figure(figsize = (10, 10))\n",
    "sns.regplot(data = xgb_results, y = 'Predicted Val Output', x = 'price', color = 'coral', marker = 'o')\n",
    "plt.title(\"Comparision of predicted values and the actual values\", fontsize = 20)\n",
    "plt.show()"
   ]
  },
  {
   "cell_type": "code",
   "execution_count": null,
   "id": "8eb956ac",
   "metadata": {},
   "outputs": [],
   "source": [
    "# Hyperparameters \n",
    "params = {'max_depth': [5,8,10],\n",
    "          'learning_rate': [0.01, 0.05, 0.1],\n",
    "          'n_estimators': [100, 500, 1000],\n",
    "          'gamma': [0, 0.2, 0.4],\n",
    "          'reg_alpha': [0, 0.5, 5],\n",
    "          'reg_lambda': [1, 10, 100]\n",
    "          }\n",
    "# params = {\n",
    "#     'max_depth': [3, 4, 5, 6, 7, 8, 9, 10],\n",
    "#     'learning_rate': [0.01, 0.05, 0.1, 0.15, 0.2],\n",
    "#     'n_estimators': [100, 500, 1000, 2000, 3000],\n",
    "#     'colsample_bytree': [0.3, 0.4, 0.5, 0.6, 0.7],\n",
    "#     'gamma': [0, 0.1, 0.2, 0.3, 0.4],\n",
    "#     'subsample': [0.5, 0.6, 0.7, 0.8, 0.9],\n",
    "#     'reg_alpha': [0, 0.1, 0.5, 1, 10],\n",
    "#     'reg_lambda': [0.01, 0.1, 1, 10, 100]\n",
    "# }"
   ]
  },
  {
   "cell_type": "code",
   "execution_count": null,
   "id": "0632ca01",
   "metadata": {},
   "outputs": [],
   "source": [
    "# Define the randomized search\n",
    "random_search = RandomizedSearchCV(\n",
    "    xgb_model, param_distributions=params,\n",
    "    n_iter=50, cv=5, verbose=1, n_jobs=-1)"
   ]
  },
  {
   "cell_type": "code",
   "execution_count": null,
   "id": "cf37ef6c",
   "metadata": {
    "scrolled": true
   },
   "outputs": [],
   "source": [
    "random_search.fit(X_train, y_train)"
   ]
  },
  {
   "cell_type": "code",
   "execution_count": null,
   "id": "52a62c48",
   "metadata": {},
   "outputs": [],
   "source": [
    "# DEFAULT ONE \n",
    "\n",
    "# XGBRegressor(base_score=0.5, booster='gbtree', colsample_bylevel=1,\n",
    "#              colsample_bynode=1, colsample_bytree=1, enable_categorical=False,\n",
    "#              gamma=0, gpu_id=-1, importance_type=None,\n",
    "#              interaction_constraints='', learning_rate=0.300000012,\n",
    "#              max_delta_step=0, max_depth=6, min_child_weight=1, missing=nan,\n",
    "#              monotone_constraints='()', n_estimators=100, n_jobs=4,\n",
    "#              num_parallel_tree=1, predictor='auto', random_state=0, reg_alpha=0,\n",
    "#              reg_lambda=1, scale_pos_weight=1, subsample=1, tree_method='exact',\n",
    "#              validate_parameters=1, verbosity=None)"
   ]
  },
  {
   "cell_type": "code",
   "execution_count": null,
   "id": "416a1f1a",
   "metadata": {},
   "outputs": [],
   "source": [
    "# HYPERPARAMETER 1 --> Overfitting observed \n",
    "\n",
    "xgb_model1 = XGBRegressor(learning_rate = 0.5, n_estimators=500,max_depth=10)"
   ]
  },
  {
   "cell_type": "code",
   "execution_count": null,
   "id": "41743707",
   "metadata": {},
   "outputs": [],
   "source": [
    "xgb_model1.fit(X_train, y_train)"
   ]
  },
  {
   "cell_type": "code",
   "execution_count": null,
   "id": "50166667",
   "metadata": {},
   "outputs": [],
   "source": [
    "xgb_predict_train = xgb_model1.predict(X_train)\n",
    "xgb_predict_val = xgb_model1.predict(X_val)"
   ]
  },
  {
   "cell_type": "code",
   "execution_count": null,
   "id": "5b6cab1a",
   "metadata": {},
   "outputs": [],
   "source": [
    "rmse_train = sqrt(mean_squared_error(y_train, xgb_predict_train)) \n",
    "r2_train = r2_score(y_train, xgb_predict_train)\n",
    "print(rmse_train)\n",
    "print(r2_train)\n",
    "\n",
    "# 4706.4166370845305\n",
    "# 0.8950213517845189"
   ]
  },
  {
   "cell_type": "code",
   "execution_count": null,
   "id": "3fb2ecfa",
   "metadata": {},
   "outputs": [],
   "source": [
    "rmse_val = sqrt(mean_squared_error(y_val, xgb_predict_val)) \n",
    "r2_val = r2_score(y_val, xgb_predict_val)\n",
    "print(rmse_val)\n",
    "print(r2_val)\n",
    "\n",
    "# 5530.851800951771\n",
    "# 0.8575404171042413"
   ]
  },
  {
   "cell_type": "code",
   "execution_count": null,
   "id": "0765e951",
   "metadata": {},
   "outputs": [],
   "source": [
    "# HYPERPARAMETER 2 \n",
    "# (with regularization parameters)\n",
    "# reduced learning rate\n",
    "# max depeth reduced\n",
    "\n",
    "## overfitting \n",
    "\n",
    "xgb_model2 = XGBRegressor(learning_rate = 0.3, n_estimators=500,max_depth=8, reg_alpha=0.01, reg_lambda=1)"
   ]
  },
  {
   "cell_type": "code",
   "execution_count": null,
   "id": "6e9e33f8",
   "metadata": {},
   "outputs": [],
   "source": [
    "xgb_model2.fit(X_train, y_train)"
   ]
  },
  {
   "cell_type": "code",
   "execution_count": null,
   "id": "4a95bdf4",
   "metadata": {},
   "outputs": [],
   "source": [
    "xgb_predict_train = xgb_model2.predict(X_train)\n",
    "xgb_predict_val = xgb_model2.predict(X_val)"
   ]
  },
  {
   "cell_type": "code",
   "execution_count": null,
   "id": "8842201e",
   "metadata": {},
   "outputs": [],
   "source": [
    "rmse_train = sqrt(mean_squared_error(y_train, xgb_predict_train)) \n",
    "r2_train = r2_score(y_train, xgb_predict_train)\n",
    "print(rmse_train)\n",
    "print(r2_train)\n",
    "\n",
    "# 4706.4166370845305\n",
    "# 0.8950213517845189"
   ]
  },
  {
   "cell_type": "code",
   "execution_count": null,
   "id": "66f41065",
   "metadata": {},
   "outputs": [],
   "source": [
    "rmse_val = sqrt(mean_squared_error(y_val, xgb_predict_val)) \n",
    "r2_val = r2_score(y_val, xgb_predict_val)\n",
    "print(rmse_val)\n",
    "print(r2_val)\n",
    "\n",
    "# 5530.851800951771\n",
    "# 0.8575404171042413"
   ]
  },
  {
   "cell_type": "code",
   "execution_count": null,
   "id": "c0f60156",
   "metadata": {},
   "outputs": [],
   "source": [
    "# HYPERPARAMETER 3\n",
    "\n",
    "\n",
    "xgb_model3 = XGBRegressor(learning_rate = 0.4, n_estimators=500,max_depth=6, reg_alpha=0.05, reg_lambda=1)"
   ]
  },
  {
   "cell_type": "code",
   "execution_count": null,
   "id": "73d95827",
   "metadata": {},
   "outputs": [],
   "source": [
    "xgb_model3.fit(X_train, y_train)"
   ]
  },
  {
   "cell_type": "code",
   "execution_count": null,
   "id": "a7ff78d9",
   "metadata": {},
   "outputs": [],
   "source": [
    "xgb_predict_train = xgb_model3.predict(X_train)\n",
    "xgb_predict_val = xgb_model3.predict(X_val)"
   ]
  },
  {
   "cell_type": "code",
   "execution_count": null,
   "id": "ad98398b",
   "metadata": {},
   "outputs": [],
   "source": [
    "rmse_train = sqrt(mean_squared_error(y_train, xgb_predict_train)) \n",
    "r2_train = r2_score(y_train, xgb_predict_train)\n",
    "print(rmse_train)\n",
    "print(r2_train)\n",
    "\n",
    "# 4706.4166370845305\n",
    "# 0.8950213517845189"
   ]
  },
  {
   "cell_type": "code",
   "execution_count": null,
   "id": "fbdcba1c",
   "metadata": {},
   "outputs": [],
   "source": [
    "rmse_val = sqrt(mean_squared_error(y_val, xgb_predict_val)) \n",
    "r2_val = r2_score(y_val, xgb_predict_val)\n",
    "print(rmse_val)\n",
    "print(r2_val)\n",
    "\n",
    "# 5530.851800951771\n",
    "# 0.8575404171042413"
   ]
  },
  {
   "cell_type": "code",
   "execution_count": null,
   "id": "5026bca9",
   "metadata": {},
   "outputs": [],
   "source": []
  },
  {
   "cell_type": "code",
   "execution_count": null,
   "id": "a60732fc",
   "metadata": {},
   "outputs": [],
   "source": [
    "# HYPERPARAMETER 4\n",
    "#. increase reg_alpha\n",
    "\n",
    "xgb_model4 = XGBRegressor(learning_rate = 0.4, n_estimators=500,max_depth=6, reg_alpha=0.1, reg_lambda=1)"
   ]
  },
  {
   "cell_type": "code",
   "execution_count": null,
   "id": "8d3107c8",
   "metadata": {},
   "outputs": [],
   "source": [
    "xgb_model4.fit(X_train, y_train)"
   ]
  },
  {
   "cell_type": "code",
   "execution_count": null,
   "id": "a04a437c",
   "metadata": {},
   "outputs": [],
   "source": [
    "xgb_predict_train = xgb_model4.predict(X_train)\n",
    "xgb_predict_val = xgb_model4.predict(X_val)"
   ]
  },
  {
   "cell_type": "code",
   "execution_count": null,
   "id": "561300d1",
   "metadata": {},
   "outputs": [],
   "source": [
    "rmse_train = sqrt(mean_squared_error(y_train, xgb_predict_train)) \n",
    "r2_train = r2_score(y_train, xgb_predict_train)\n",
    "print(rmse_train)\n",
    "print(r2_train)\n",
    "\n",
    "# 4706.4166370845305\n",
    "# 0.8950213517845189"
   ]
  },
  {
   "cell_type": "code",
   "execution_count": null,
   "id": "400f9ce2",
   "metadata": {},
   "outputs": [],
   "source": [
    "rmse_val = sqrt(mean_squared_error(y_val, xgb_predict_val)) \n",
    "r2_val = r2_score(y_val, xgb_predict_val)\n",
    "print(rmse_val)\n",
    "print(r2_val)\n",
    "\n",
    "# 5530.851800951771\n",
    "# 0.8575404171042413"
   ]
  },
  {
   "cell_type": "code",
   "execution_count": null,
   "id": "95398b71",
   "metadata": {},
   "outputs": [],
   "source": []
  },
  {
   "cell_type": "code",
   "execution_count": null,
   "id": "6fcfd81d",
   "metadata": {},
   "outputs": [],
   "source": [
    "# XGBRegressor(base_score=0.5, booster='gbtree', colsample_bylevel=1,\n",
    "#              colsample_bynode=1, colsample_bytree=1, enable_categorical=False,\n",
    "#              gamma=0, gpu_id=-1, importance_type=None,\n",
    "#              interaction_constraints='', learning_rate=0.300000012,\n",
    "#              max_delta_step=0, max_depth=6, min_child_weight=1, missing=nan,\n",
    "#              monotone_constraints='()', n_estimators=100, n_jobs=4,\n",
    "#              num_parallel_tree=1, predictor='auto', random_state=0, reg_alpha=0,\n",
    "#              reg_lambda=1, scale_pos_weight=1, subsample=1, tree_method='exact',\n",
    "#              validate_parameters=1, verbosity=None)"
   ]
  },
  {
   "cell_type": "code",
   "execution_count": null,
   "id": "5e718131",
   "metadata": {},
   "outputs": [],
   "source": [
    "# HYPERPARAMETER 5\n",
    "#. n_estimators\n",
    "\n",
    "xgb_model5 = XGBRegressor(learning_rate = 0.4, n_estimators=200,max_depth=6, reg_alpha=0.1, reg_lambda=1)"
   ]
  },
  {
   "cell_type": "code",
   "execution_count": null,
   "id": "5affca5e",
   "metadata": {},
   "outputs": [],
   "source": [
    "xgb_model5.fit(X_train, y_train)"
   ]
  },
  {
   "cell_type": "code",
   "execution_count": null,
   "id": "ff6b9114",
   "metadata": {},
   "outputs": [],
   "source": [
    "xgb_predict_train = xgb_model5.predict(X_train)\n",
    "xgb_predict_val = xgb_model5.predict(X_val)"
   ]
  },
  {
   "cell_type": "code",
   "execution_count": null,
   "id": "3ae97488",
   "metadata": {},
   "outputs": [],
   "source": [
    "rmse_train = sqrt(mean_squared_error(y_train, xgb_predict_train)) \n",
    "r2_train = r2_score(y_train, xgb_predict_train)\n",
    "print(rmse_train)\n",
    "print(r2_train)\n",
    "\n",
    "# 4706.4166370845305\n",
    "# 0.8950213517845189"
   ]
  },
  {
   "cell_type": "code",
   "execution_count": null,
   "id": "c13e45f8",
   "metadata": {},
   "outputs": [],
   "source": [
    "rmse_val = sqrt(mean_squared_error(y_val, xgb_predict_val)) \n",
    "r2_val = r2_score(y_val, xgb_predict_val)\n",
    "print(rmse_val)\n",
    "print(r2_val)\n",
    "\n",
    "# 5530.851800951771\n",
    "# 0.8575404171042413"
   ]
  },
  {
   "cell_type": "code",
   "execution_count": null,
   "id": "eaa174e7",
   "metadata": {},
   "outputs": [],
   "source": [
    "# HYPERPARAMETER 6\n",
    "\n",
    "\n",
    "xgb_model6 = XGBRegressor(max_depth=8,learning_rate = 0.5)\n",
    "xgb_model6.fit(X_train, y_train)"
   ]
  },
  {
   "cell_type": "code",
   "execution_count": null,
   "id": "616b7385",
   "metadata": {},
   "outputs": [],
   "source": [
    "xgb_predict_train = xgb_model6.predict(X_train)\n",
    "xgb_predict_val = xgb_model6.predict(X_val)"
   ]
  },
  {
   "cell_type": "code",
   "execution_count": null,
   "id": "dc1e8c44",
   "metadata": {},
   "outputs": [],
   "source": [
    "rmse_train = sqrt(mean_squared_error(y_train, xgb_predict_train)) \n",
    "r2_train = r2_score(y_train, xgb_predict_train)\n",
    "print(rmse_train)\n",
    "print(r2_train)\n",
    "\n",
    "# 4706.4166370845305\n",
    "# 0.8950213517845189"
   ]
  },
  {
   "cell_type": "code",
   "execution_count": null,
   "id": "7ddbae02",
   "metadata": {},
   "outputs": [],
   "source": [
    "rmse_val = sqrt(mean_squared_error(y_val, xgb_predict_val)) \n",
    "r2_val = r2_score(y_val, xgb_predict_val)\n",
    "print(rmse_val)\n",
    "print(r2_val)\n",
    "\n",
    "# 5530.851800951771\n",
    "# 0.8575404171042413"
   ]
  },
  {
   "cell_type": "code",
   "execution_count": null,
   "id": "d74d5ec8",
   "metadata": {},
   "outputs": [],
   "source": [
    "# HYPERPARAMETER 7\n",
    "xgb_model7 = XGBRegressor(learning_rate = 0.38, n_estimators=150,max_depth=8)\n",
    "xgb_model7.fit(X_train, y_train)"
   ]
  },
  {
   "cell_type": "code",
   "execution_count": null,
   "id": "f273f118",
   "metadata": {},
   "outputs": [],
   "source": [
    "xgb_predict_train = xgb_model7.predict(X_train)\n",
    "xgb_predict_val = xgb_model7.predict(X_val)"
   ]
  },
  {
   "cell_type": "code",
   "execution_count": null,
   "id": "caff8f54",
   "metadata": {},
   "outputs": [],
   "source": [
    "rmse_train = sqrt(mean_squared_error(y_train, xgb_predict_train)) \n",
    "r2_train = r2_score(y_train, xgb_predict_train)\n",
    "print(rmse_train)\n",
    "print(r2_train)\n",
    "\n",
    "# 4706.4166370845305\n",
    "# 0.8950213517845189"
   ]
  },
  {
   "cell_type": "code",
   "execution_count": null,
   "id": "043c20e0",
   "metadata": {},
   "outputs": [],
   "source": [
    "rmse_val = sqrt(mean_squared_error(y_val, xgb_predict_val)) \n",
    "r2_val = r2_score(y_val, xgb_predict_val)\n",
    "print(rmse_val)\n",
    "print(r2_val)\n",
    "\n",
    "# 5530.851800951771\n",
    "# 0.8575404171042413"
   ]
  },
  {
   "cell_type": "code",
   "execution_count": null,
   "id": "614eec76",
   "metadata": {},
   "outputs": [],
   "source": [
    "# Hyperparameter 8\n",
    "#  max_depth is set to 6 and min_child_weight is set to 5, \n",
    "\n",
    "xgb_model8 = XGBRegressor(base_score=0.5, booster='gbtree', colsample_bylevel=1,\n",
    "             colsample_bynode=1, colsample_bytree=1, enable_categorical=False,\n",
    "             gamma=0, gpu_id=-1, importance_type=None,\n",
    "             interaction_constraints='', learning_rate=0.300000012,\n",
    "             max_delta_step=0, max_depth=6, min_child_weight=5,\n",
    "             monotone_constraints='()', n_estimators=100, n_jobs=4,\n",
    "             num_parallel_tree=1, predictor='auto', random_state=0, reg_alpha=0,\n",
    "             reg_lambda=1, scale_pos_weight=1, subsample=1, tree_method='exact',\n",
    "             validate_parameters=1, verbosity=None)\n",
    "xgb_model8.fit(X_train, y_train)"
   ]
  },
  {
   "cell_type": "code",
   "execution_count": null,
   "id": "cd7b1eeb",
   "metadata": {},
   "outputs": [],
   "source": [
    "xgb_predict_train = xgb_model8.predict(X_train)\n",
    "xgb_predict_val = xgb_model8.predict(X_val)"
   ]
  },
  {
   "cell_type": "code",
   "execution_count": null,
   "id": "313e2a02",
   "metadata": {},
   "outputs": [],
   "source": [
    "rmse_train = sqrt(mean_squared_error(y_train, xgb_predict_train)) \n",
    "r2_train = r2_score(y_train, xgb_predict_train)\n",
    "print(rmse_train)\n",
    "print(r2_train)\n",
    "\n",
    "# 4706.4166370845305\n",
    "# 0.8950213517845189"
   ]
  },
  {
   "cell_type": "code",
   "execution_count": null,
   "id": "31912b3a",
   "metadata": {},
   "outputs": [],
   "source": [
    "rmse_val = sqrt(mean_squared_error(y_val, xgb_predict_val)) \n",
    "r2_val = r2_score(y_val, xgb_predict_val)\n",
    "print(rmse_val)\n",
    "print(r2_val)\n",
    "\n",
    "# 5530.851800951771\n",
    "# 0.8575404171042413"
   ]
  },
  {
   "cell_type": "code",
   "execution_count": null,
   "id": "233d0b29",
   "metadata": {},
   "outputs": [],
   "source": [
    "# Hyperparameter 9\n",
    "# learning rate increased  \n",
    "\n",
    "xgb_model9 = XGBRegressor(base_score=0.5, booster='gbtree', colsample_bylevel=1,\n",
    "             colsample_bynode=1, colsample_bytree=1, enable_categorical=False,\n",
    "             gamma=0, gpu_id=-1, importance_type=None,\n",
    "             interaction_constraints='', learning_rate=0.35,\n",
    "             max_delta_step=0, max_depth=6, min_child_weight=5,\n",
    "             monotone_constraints='()', n_estimators=100, n_jobs=4,\n",
    "             num_parallel_tree=1, predictor='auto', random_state=0, reg_alpha=0,\n",
    "             reg_lambda=1, scale_pos_weight=1, subsample=1, tree_method='exact',\n",
    "             validate_parameters=1, verbosity=None)\n",
    "xgb_model9.fit(X_train, y_train)"
   ]
  },
  {
   "cell_type": "code",
   "execution_count": null,
   "id": "768d7f8e",
   "metadata": {},
   "outputs": [],
   "source": [
    "xgb_predict_train = xgb_model9.predict(X_train)\n",
    "xgb_predict_val = xgb_model9.predict(X_val)"
   ]
  },
  {
   "cell_type": "code",
   "execution_count": null,
   "id": "8127aef7",
   "metadata": {},
   "outputs": [],
   "source": [
    "rmse_train = sqrt(mean_squared_error(y_train, xgb_predict_train)) \n",
    "r2_train = r2_score(y_train, xgb_predict_train)\n",
    "print(rmse_train)\n",
    "print(r2_train)\n",
    "\n",
    "# 4706.4166370845305\n",
    "# 0.8950213517845189"
   ]
  },
  {
   "cell_type": "code",
   "execution_count": null,
   "id": "bf7033b3",
   "metadata": {},
   "outputs": [],
   "source": [
    "rmse_val = sqrt(mean_squared_error(y_val, xgb_predict_val)) \n",
    "r2_val = r2_score(y_val, xgb_predict_val)\n",
    "print(rmse_val)\n",
    "print(r2_val)\n",
    "\n",
    "# 5530.851800951771\n",
    "# 0.8575404171042413"
   ]
  },
  {
   "cell_type": "code",
   "execution_count": null,
   "id": "cd28fb1d",
   "metadata": {},
   "outputs": [],
   "source": [
    "# Hyperparameter 10\n",
    "# max_depth increased  \n",
    "\n",
    "xgb_model10 = XGBRegressor(base_score=0.5, booster='gbtree', colsample_bylevel=1,\n",
    "             colsample_bynode=1, colsample_bytree=1, enable_categorical=False,\n",
    "             gamma=0, gpu_id=-1, importance_type=None,\n",
    "             interaction_constraints='', learning_rate=0.35,\n",
    "             max_delta_step=0, max_depth=8, min_child_weight=5,\n",
    "             monotone_constraints='()', n_estimators=100, n_jobs=4,\n",
    "             num_parallel_tree=1, predictor='auto', random_state=0, reg_alpha=0,\n",
    "             reg_lambda=1, scale_pos_weight=1, subsample=1, tree_method='exact',\n",
    "             validate_parameters=1, verbosity=None)\n",
    "xgb_model10.fit(X_train, y_train)"
   ]
  },
  {
   "cell_type": "code",
   "execution_count": null,
   "id": "d7958edd",
   "metadata": {},
   "outputs": [],
   "source": [
    "xgb_predict_train = xgb_model10.predict(X_train)\n",
    "xgb_predict_val = xgb_model10.predict(X_val)"
   ]
  },
  {
   "cell_type": "code",
   "execution_count": null,
   "id": "c626aef3",
   "metadata": {},
   "outputs": [],
   "source": [
    "rmse_train = sqrt(mean_squared_error(y_train, xgb_predict_train)) \n",
    "r2_train = r2_score(y_train, xgb_predict_train)\n",
    "print(rmse_train)\n",
    "print(r2_train)\n",
    "\n",
    "# 4706.4166370845305\n",
    "# 0.8950213517845189"
   ]
  },
  {
   "cell_type": "code",
   "execution_count": null,
   "id": "a8645e40",
   "metadata": {},
   "outputs": [],
   "source": [
    "rmse_val = sqrt(mean_squared_error(y_val, xgb_predict_val)) \n",
    "r2_val = r2_score(y_val, xgb_predict_val)\n",
    "print(rmse_val)\n",
    "print(r2_val)\n",
    "\n",
    "# 5530.851800951771\n",
    "# 0.8575404171042413"
   ]
  }
 ],
 "metadata": {
  "kernelspec": {
   "display_name": "Python 3 (ipykernel)",
   "language": "python",
   "name": "python3"
  },
  "language_info": {
   "codemirror_mode": {
    "name": "ipython",
    "version": 3
   },
   "file_extension": ".py",
   "mimetype": "text/x-python",
   "name": "python",
   "nbconvert_exporter": "python",
   "pygments_lexer": "ipython3",
   "version": "3.9.12"
  }
 },
 "nbformat": 4,
 "nbformat_minor": 5
}
